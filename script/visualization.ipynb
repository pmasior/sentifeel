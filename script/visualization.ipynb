{
 "cells": [
  {
   "cell_type": "markdown",
   "metadata": {},
   "source": [
    "# Visualizations"
   ]
  },
  {
   "cell_type": "code",
   "execution_count": null,
   "metadata": {
    "vscode": {
     "languageId": "plaintext"
    }
   },
   "outputs": [],
   "source": [
    "import os\n",
    "os.chdir('/app')\n",
    "from visualizer import (\n",
    "    eurovision_average_sentiment_by_country_plotter,\n",
    "    eurovision_average_sentiment_by_year_plotter,\n",
    "    eurovision_average_sentiment_for_keywords_plotter,\n",
    "    eurovision_key_phrases_over_years_plotter,\n",
    "    eurovision_sentiment_by_year_plotter,\n",
    ")"
   ]
  },
  {
   "cell_type": "code",
   "execution_count": null,
   "metadata": {
    "vscode": {
     "languageId": "plaintext"
    }
   },
   "outputs": [],
   "source": [
    "eurovision_sentiment_by_year_plotter.plot_eurovision_sentiment_by_year()\n"
   ]
  },
  {
   "cell_type": "code",
   "execution_count": null,
   "metadata": {
    "vscode": {
     "languageId": "plaintext"
    }
   },
   "outputs": [],
   "source": [
    "eurovision_key_phrases_over_years_plotter.plot_key_phrases_over_years()\n"
   ]
  },
  {
   "cell_type": "code",
   "execution_count": null,
   "metadata": {
    "vscode": {
     "languageId": "plaintext"
    }
   },
   "outputs": [],
   "source": [
    "eurovision_average_sentiment_by_year_plotter.plot_eurovision_average_sentiment_by_year()\n"
   ]
  },
  {
   "cell_type": "code",
   "execution_count": null,
   "metadata": {
    "vscode": {
     "languageId": "plaintext"
    }
   },
   "outputs": [],
   "source": [
    "eurovision_average_sentiment_by_country_plotter.plot_eurovision_average_sentiment_by_country()\n"
   ]
  },
  {
   "cell_type": "code",
   "execution_count": null,
   "metadata": {
    "vscode": {
     "languageId": "plaintext"
    }
   },
   "outputs": [],
   "source": [
    "eurovision_average_sentiment_for_keywords_plotter.plot_average_sentiment_for_keywords()\n"
   ]
  }
 ],
 "metadata": {
  "language_info": {
   "name": "python",
   "pygments_lexer": "ipython3"
  }
 },
 "nbformat": 4,
 "nbformat_minor": 2
}
